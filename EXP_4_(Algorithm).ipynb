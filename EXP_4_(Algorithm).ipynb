{
  "nbformat": 4,
  "nbformat_minor": 0,
  "metadata": {
    "colab": {
      "provenance": [],
      "authorship_tag": "ABX9TyNPbtGDN0FWcOkEnFIS69NZ",
      "include_colab_link": true
    },
    "kernelspec": {
      "name": "python3",
      "display_name": "Python 3"
    },
    "language_info": {
      "name": "python"
    }
  },
  "cells": [
    {
      "cell_type": "markdown",
      "metadata": {
        "id": "view-in-github",
        "colab_type": "text"
      },
      "source": [
        "<a href=\"https://colab.research.google.com/github/pavithra23125/algorithm/blob/main/EXP_4_(Algorithm).ipynb\" target=\"_parent\"><img src=\"https://colab.research.google.com/assets/colab-badge.svg\" alt=\"Open In Colab\"/></a>"
      ]
    },
    {
      "cell_type": "code",
      "execution_count": null,
      "metadata": {
        "id": "e2C0uSgNyXuK"
      },
      "outputs": [],
      "source": []
    },
    {
      "cell_type": "code",
      "execution_count": 1,
      "metadata": {
        "colab": {
          "base_uri": "https://localhost:8080/"
        },
        "id": "HqG9QySU62wh",
        "outputId": "8e598ac0-22cd-4524-fd7b-5aaaf4dbe4c6"
      },
      "outputs": [
        {
          "output_type": "stream",
          "name": "stdout",
          "text": [
            "Q - - - - - - - \n",
            "- - - - - - Q - \n",
            "- - - - Q - - - \n",
            "- - - - - - - Q \n",
            "- Q - - - - - - \n",
            "- - - Q - - - - \n",
            "- - - - - Q - - \n",
            "- - Q - - - - - \n",
            "Time taken:  0.009165525436401367\n"
          ]
        }
      ],
      "source": [
        "import time\n",
        "def print_board(board):\n",
        "    for i in range(len(board)):\n",
        "        for j in range(len(board)):\n",
        "            if board[i][j] == 1:\n",
        "                print(\"Q \", end=\"\")\n",
        "            else:\n",
        "                print(\"- \", end=\"\")\n",
        "        print()\n",
        "def is_safe(board, row, col):\n",
        "    for i in range(col):\n",
        "        if board[row][i] == 1:\n",
        "            return False\n",
        "    for i, j in zip(range(row, -1, -1), range(col, -1, -1)):\n",
        "        if board[i][j] == 1:\n",
        "            return False\n",
        "    for i, j in zip(range(row, len(board), 1), range(col, -1, -1)):\n",
        "        if board[i][j] == 1:\n",
        "            return False\n",
        "    return True\n",
        "def solve_n_queens(board, col):\n",
        "    if col >= len(board):\n",
        "        return True\n",
        "    for i in range(len(board)):\n",
        "        if is_safe(board, i, col):\n",
        "            board[i][col] = 1\n",
        "            if solve_n_queens(board, col + 1):\n",
        "                return True\n",
        "            board[i][col] = 0\n",
        "    return False\n",
        "def n_queens(n):\n",
        "    board = [[0 for i in range(n)] for j in range(n)]\n",
        "    start_time = time.time()\n",
        "    if solve_n_queens(board, 0):\n",
        "        print_board(board)\n",
        "    else:\n",
        "        print(\"Solution does not exist\")\n",
        "    end_time = time.time()\n",
        "    print(\"Time taken: \", end_time - start_time)\n",
        "n = 8\n",
        "n_queens(n)\n"
      ]
    }
  ]
}