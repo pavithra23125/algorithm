{
  "nbformat": 4,
  "nbformat_minor": 0,
  "metadata": {
    "colab": {
      "provenance": [],
      "authorship_tag": "ABX9TyMOGFVycj4Eflec6dAkY9rP",
      "include_colab_link": true
    },
    "kernelspec": {
      "name": "python3",
      "display_name": "Python 3"
    },
    "language_info": {
      "name": "python"
    }
  },
  "cells": [
    {
      "cell_type": "markdown",
      "metadata": {
        "id": "view-in-github",
        "colab_type": "text"
      },
      "source": [
        "<a href=\"https://colab.research.google.com/github/pavithra23125/algorithm/blob/main/EXP_5_(Algorithm).ipynb\" target=\"_parent\"><img src=\"https://colab.research.google.com/assets/colab-badge.svg\" alt=\"Open In Colab\"/></a>"
      ]
    },
    {
      "cell_type": "code",
      "execution_count": null,
      "metadata": {
        "id": "Pl94zcszy0OY"
      },
      "outputs": [],
      "source": []
    },
    {
      "cell_type": "code",
      "source": [
        "import numpy as np\n",
        "import time\n",
        "def tsp_dp(graph, n):\n",
        "    dp = np.ones((1 << n, n)) * np.inf\n",
        "    dp[1][0] = 0  # Starting point\n",
        "    for mask in range(1, 1 << n):\n",
        "        for i in range(n):\n",
        "            if not (mask & (1 << i)):\n",
        "                continue\n",
        "            for j in range(n):\n",
        "                if i == j or not (mask & (1 << j)):\n",
        "                    continue\n",
        "                dp[mask][i] = min(dp[mask][i], dp[mask ^ (1 << i)][j] + graph[j][i])\n",
        "    return min([dp[(1 << n) - 1][i] + graph[i][0] for i in range(n)])\n",
        "def tsp_nn(graph, n):\n",
        "    visited = [0] * n\n",
        "    visited[0] = 1\n",
        "    curr = 0\n",
        "    ans = 0\n",
        "    for i in range(n - 1):\n",
        "        next = -1\n",
        "        for j in range(n):\n",
        "            if visited[j] == 0 and (next == -1 or graph[curr][j] < graph[curr][next]):\n",
        "                next = j\n",
        "        ans += graph[curr][next]\n",
        "        curr = next\n",
        "        visited[curr] = 1\n",
        "    ans += graph[curr][0]\n",
        "    return ans\n",
        "def tsp_error(graph, n):\n",
        "    opt = tsp_dp(graph, n)\n",
        "    approx = tsp_nn(graph, n)\n",
        "    return (approx - opt) / opt * 100\n",
        "def time_taken(graph, n):\n",
        "    start = time.time()\n",
        "    tsp_dp(graph, n)\n",
        "    end = time.time()\n",
        "    return end - start\n",
        "n = 4\n",
        "graph = np.array([[0, 10, 15, 20], [10, 0, 35, 25], [15, 35, 0, 30], [20, 25, 30, 0]])\n",
        "print(\"Optimal Solution:\", tsp_dp(graph, n))\n",
        "print(\"Approximation:\", tsp_nn(graph, n))\n",
        "print(\"Error:\", tsp_error(graph, n), \"%\")\n",
        "print(\"Time taken:\", time_taken(graph, n), \"seconds\")\n"
      ],
      "metadata": {
        "colab": {
          "base_uri": "https://localhost:8080/"
        },
        "id": "TiehExMm9BB3",
        "outputId": "791f76d0-0085-4ed3-e223-cdb6bef20cbe"
      },
      "execution_count": 1,
      "outputs": [
        {
          "output_type": "stream",
          "name": "stdout",
          "text": [
            "Optimal Solution: 80.0\n",
            "Approximation: 80\n",
            "Error: 0.0 %\n",
            "Time taken: 0.00021409988403320312 seconds\n"
          ]
        }
      ]
    },
    {
      "cell_type": "code",
      "source": [],
      "metadata": {
        "id": "DhKFURLXy67i"
      },
      "execution_count": null,
      "outputs": []
    },
    {
      "cell_type": "code",
      "source": [
        "import random\n",
        "import time\n",
        "def quick_select(arr, k):\n",
        "    pivot = random.choice(arr)\n",
        "    left = [x for x in arr if x < pivot]\n",
        "    right = [x for x in arr if x > pivot]\n",
        "    if k <= len(left):\n",
        "        return quick_select(left, k)\n",
        "    elif k == len(left) + 1:\n",
        "        return pivot\n",
        "    else:\n",
        "        return quick_select(right, k - (len(left) + 1))\n",
        "def reservoir_sampling(arr, k):\n",
        "    reservoir = arr[:k]\n",
        "    for i in range(k, len(arr)):\n",
        "        j = random.randint(0, i)\n",
        "        if j < k:\n",
        "            reservoir[j] = arr[i]\n",
        "    return reservoir\n",
        "def time_taken(func, arr, k):\n",
        "    print(\"Time of my program\")\n",
        "    start = time.time()\n",
        "    func(arr, k)\n",
        "    end = time.time()\n",
        "    return end - start\n",
        "arr = [1, 2, 3, 4, 5, 6, 7, 8, 9, 10]\n",
        "k = 5\n",
        "print(\"QuickSelect:\", quick_select(arr, k))\n",
        "print(\"Reservoir Sampling:\", reservoir_sampling(arr, k))\n",
        "quickselect_time = time_taken(quick_select, arr, k)\n",
        "print(\"QuickSelect Time:\", quickselect_time)\n",
        "reservoir_time = time_taken(reservoir_sampling, arr, k)\n",
        "print(\"Reservoir Sampling Time:\", reservoir_time)\n"
      ],
      "metadata": {
        "colab": {
          "base_uri": "https://localhost:8080/"
        },
        "id": "2wp7ncWg9Z01",
        "outputId": "4b0c15d9-24c9-4203-8f17-74ba5c367016"
      },
      "execution_count": 2,
      "outputs": [
        {
          "output_type": "stream",
          "name": "stdout",
          "text": [
            "QuickSelect: 5\n",
            "Reservoir Sampling: [6, 8, 3, 4, 7]\n",
            "Time of my program\n",
            "QuickSelect Time: 2.5272369384765625e-05\n",
            "Time of my program\n",
            "Reservoir Sampling Time: 2.956390380859375e-05\n"
          ]
        }
      ]
    }
  ]
}