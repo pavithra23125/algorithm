{
  "nbformat": 4,
  "nbformat_minor": 0,
  "metadata": {
    "colab": {
      "provenance": [],
      "authorship_tag": "ABX9TyM+m6G7Zxbw4Crf2jivuIbP",
      "include_colab_link": true
    },
    "kernelspec": {
      "name": "python3",
      "display_name": "Python 3"
    },
    "language_info": {
      "name": "python"
    }
  },
  "cells": [
    {
      "cell_type": "markdown",
      "metadata": {
        "id": "view-in-github",
        "colab_type": "text"
      },
      "source": [
        "<a href=\"https://colab.research.google.com/github/pavithra23125/algorithm/blob/main/AllSort.ipynb\" target=\"_parent\"><img src=\"https://colab.research.google.com/assets/colab-badge.svg\" alt=\"Open In Colab\"/></a>"
      ]
    },
    {
      "cell_type": "code",
      "execution_count": 3,
      "metadata": {
        "colab": {
          "base_uri": "https://localhost:8080/"
        },
        "id": "AXghNlZM4gUM",
        "outputId": "da50758f-a8de-4aa3-8ef1-e54a5c0491d8"
      },
      "outputs": [
        {
          "output_type": "stream",
          "name": "stdout",
          "text": [
            "Sorted array: [13, 22, 25, 66, 100, 250, 500]\n"
          ]
        }
      ],
      "source": [
        "def bubblesort(arr):\n",
        "    n = len(arr)\n",
        "    for i in range(n):\n",
        "        for j in range(0, n - i - 1):\n",
        "            if arr[j] > arr[j + 1]:\n",
        "                arr[j], arr[j + 1] = arr[j + 1], arr[j]\n",
        "\n",
        "\n",
        "arr = [100,500,250,66,13,25,22]\n",
        "bubblesort(arr)\n",
        "print(\"Sorted array:\", arr)\n"
      ]
    },
    {
      "cell_type": "code",
      "source": [
        "def selectionsort(arr):\n",
        "    n = len(arr)\n",
        "    for i in range(n):\n",
        "        min_idx = i\n",
        "        for j in range(i + 1, n):\n",
        "            if arr[j] < arr[min_idx]:\n",
        "                min_idx = j\n",
        "        arr[i], arr[min_idx] = arr[min_idx], arr[i]\n",
        "\n",
        "\n",
        "arr = [23,25,22,10,2,33]\n",
        "selectionsort(arr)\n",
        "print(\"Sorted array:\", arr)\n"
      ],
      "metadata": {
        "colab": {
          "base_uri": "https://localhost:8080/"
        },
        "id": "5zjFRRNo5PvM",
        "outputId": "abbc72d6-325b-473e-a3a7-1e8fc346eb50"
      },
      "execution_count": 5,
      "outputs": [
        {
          "output_type": "stream",
          "name": "stdout",
          "text": [
            "Sorted array: [2, 10, 22, 23, 25, 33]\n"
          ]
        }
      ]
    },
    {
      "cell_type": "code",
      "source": [
        "def insertionsort(arr):\n",
        "    for i in range(1, len(arr)):\n",
        "        key = arr[i]\n",
        "        j = i - 1\n",
        "        while j >= 0 and key < arr[j]:\n",
        "            arr[j + 1] = arr[j]\n",
        "            j -= 1\n",
        "        arr[j + 1] = key\n",
        "\n",
        "\n",
        "arr = [23,25,22,10,2,33]\n",
        "insertionsort(arr)\n",
        "print(\"Sorted array:\", arr)"
      ],
      "metadata": {
        "colab": {
          "base_uri": "https://localhost:8080/"
        },
        "id": "TVaHYxyX5nk7",
        "outputId": "72d66f4b-0c47-4af4-fe56-2331a8bb02c4"
      },
      "execution_count": 6,
      "outputs": [
        {
          "output_type": "stream",
          "name": "stdout",
          "text": [
            "Sorted array: [2, 10, 22, 23, 25, 33]\n"
          ]
        }
      ]
    },
    {
      "cell_type": "code",
      "source": [
        "def mergesort(arr):\n",
        "    if len(arr) > 1:\n",
        "        mid = len(arr) // 2\n",
        "        left = arr[:mid]\n",
        "        right = arr[mid:]\n",
        "        mergesort(left)\n",
        "        mergesort(right)\n",
        "        i = j = k = 0\n",
        "        while i < len(left) and j < len(right):\n",
        "            if left[i] < right[j]:\n",
        "                arr[k] = left[i]\n",
        "                i += 1\n",
        "            else:\n",
        "                arr[k] = right[j]\n",
        "                j += 1\n",
        "            k += 1\n",
        "        while i < len(left):\n",
        "            arr[k] = left[i]\n",
        "            i += 1\n",
        "            k += 1\n",
        "        while j < len(right):\n",
        "            arr[k] = right[j]\n",
        "            j += 1\n",
        "            k += 1\n",
        "\n",
        "\n",
        "arr = [23,25,22,10,2,33]\n",
        "mergesort(arr)\n",
        "print(\"Sorted array:\", arr)\n"
      ],
      "metadata": {
        "colab": {
          "base_uri": "https://localhost:8080/"
        },
        "id": "S_CbLEYg5yub",
        "outputId": "6f6f1081-c801-4ae6-b96b-805a5892d706"
      },
      "execution_count": 7,
      "outputs": [
        {
          "output_type": "stream",
          "name": "stdout",
          "text": [
            "Sorted array: [2, 10, 22, 23, 25, 33]\n"
          ]
        }
      ]
    },
    {
      "cell_type": "code",
      "source": [
        "def quicksort(arr):\n",
        "    if len(arr) <= 1:\n",
        "        return arr\n",
        "    pivot = arr[len(arr) // 2]\n",
        "    left = [x for x in arr if x < pivot]\n",
        "    middle = [x for x in arr if x == pivot]\n",
        "    right = [x for x in arr if x > pivot]\n",
        "    return quicksort(left) + middle + quicksort(right)\n",
        "\n",
        "\n",
        "arr = [23,25,10,22,2,3]\n",
        "sorted_arr = quicksort(arr)\n",
        "print(\"Sorted array:\", sorted_arr)\n"
      ],
      "metadata": {
        "colab": {
          "base_uri": "https://localhost:8080/"
        },
        "id": "piG5Pm0f6Vji",
        "outputId": "31f41ffa-0acb-4f8b-e02a-610f8dc022db"
      },
      "execution_count": 8,
      "outputs": [
        {
          "output_type": "stream",
          "name": "stdout",
          "text": [
            "Sorted array: [2, 3, 10, 22, 23, 25]\n"
          ]
        }
      ]
    },
    {
      "cell_type": "code",
      "source": [
        "import heapq\n",
        "\n",
        "def heapsort(arr):\n",
        "    heapq.heapify(arr)\n",
        "    return [heapq.heappop(arr) for _ in range(len(arr))]\n",
        "\n",
        "arr = [23,22,25,2,33]\n",
        "sorted_arr = heapsort(arr)\n",
        "print(\"Sorted array:\", sorted_arr)\n"
      ],
      "metadata": {
        "colab": {
          "base_uri": "https://localhost:8080/"
        },
        "id": "P_0H3vrc7Lsb",
        "outputId": "efd7c3c3-0878-43de-f182-3aa9874672f5"
      },
      "execution_count": 9,
      "outputs": [
        {
          "output_type": "stream",
          "name": "stdout",
          "text": [
            "Sorted array: [2, 22, 23, 25, 33]\n"
          ]
        }
      ]
    },
    {
      "cell_type": "code",
      "source": [
        "def countingsort(arr):\n",
        "    max_val = max(arr)\n",
        "    count = [0] * (max_val + 1)\n",
        "    for num in arr:\n",
        "        count[num] += 1\n",
        "    sorted_arr = []\n",
        "    for i, freq in enumerate(count):\n",
        "        sorted_arr.extend([i] * freq)\n",
        "    return sorted_arr\n",
        "arr = [22,25,23,33,2,3]\n",
        "sorted_arr = countingsort(arr)\n",
        "print(\"Sorted array:\", sorted_arr)\n"
      ],
      "metadata": {
        "colab": {
          "base_uri": "https://localhost:8080/"
        },
        "id": "a3Dpf3i07Q0y",
        "outputId": "e765dbe5-29bd-4893-9ebe-ce81198af749"
      },
      "execution_count": 10,
      "outputs": [
        {
          "output_type": "stream",
          "name": "stdout",
          "text": [
            "Sorted array: [2, 3, 22, 23, 25, 33]\n"
          ]
        }
      ]
    }
  ]
}